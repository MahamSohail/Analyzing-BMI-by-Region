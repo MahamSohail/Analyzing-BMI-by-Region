{
 "cells": [
  {
   "cell_type": "markdown",
   "id": "indonesian-rescue",
   "metadata": {},
   "source": [
    "## Data Analytics Project- Analyzing BMI by Region\n",
    "### Maham Sohail "
   ]
  },
  {
   "cell_type": "code",
   "execution_count": 2,
   "id": "strong-elizabeth",
   "metadata": {},
   "outputs": [],
   "source": [
    "# Import packages\n",
    "import numpy as np\n",
    "import pandas as pd\n",
    "\n",
    "# Packages for visualizations\n",
    "import matplotlib.pyplot as plt\n",
    "import seaborn as sns\n",
    "sns.set(style=\"white\")\n",
    "sns.set(style=\"whitegrid\", color_codes=True)\n",
    "import geopandas as gpd\n",
    "\n",
    "# Package for statistical analyses\n",
    "import scipy.stats as stats"
   ]
  },
  {
   "cell_type": "code",
   "execution_count": null,
   "id": "ceramic-roots",
   "metadata": {},
   "outputs": [],
   "source": [
    "# upload dataset\n",
    "x = pd.read_csv('insurance.csv')\n",
    "\n",
    "# print only first few rows\n",
    "print(x.head())"
   ]
  },
  {
   "cell_type": "markdown",
   "id": "nominated-provider",
   "metadata": {},
   "source": [
    "### Introduction\n",
    "\n",
    "The \"Insurance Premium Charges\" dataset showcases medical costs billed by health insurance\n",
    "and various individual demographics such as age ranges, gender, and region.The goal is to understand how the \n",
    "region may impact medical costs and the health status of individuals. Exploratory data analysis was conducted \n",
    "to get an understanding of the data. After learning more about the data, research questions were created,\n",
    "accompanied by data visualization and statistical testing. "
   ]
  },
  {
   "cell_type": "markdown",
   "id": "efficient-perception",
   "metadata": {},
   "source": [
    "### Data Cleaning \n",
    "\n",
    "The first step in a data analysis project is the data cleaning process to ensure standardization. Data could consist of N/A values, negative numbers, or out-of-place values. To find any \"N/A\" or null values, \"is.null()\" was coded to find 0 null values in the dataset. Next, to check for negative numbers in the \"charges\" column, a \"for loop\" was created to iterate through each value. According to this code, there are no negative values in the charges column.  "
   ]
  },
  {
   "cell_type": "code",
   "execution_count": 9,
   "id": "intimate-ozone",
   "metadata": {},
   "outputs": [],
   "source": [
    "# Data Cleaning \n",
    "\n",
    "# Check for any null values in the dataset\n",
    "x.isnull().any()\n",
    "               \n",
    "# Check for any negative values in the \"charges\" column\n",
    "for values in x[\"charges\"]:\n",
    "    if values < 0:\n",
    "        print(items.count())\n",
    "    else:\n",
    "        print(\"There are no negative values in the charges column\")\n",
    "        break\n"
   ]
  },
  {
   "cell_type": "markdown",
   "id": "herbal-geometry",
   "metadata": {},
   "source": [
    "### Exploratory Analysis\n",
    "\n",
    "First, the data was uploaded using the \"read_csv\" module. There are a total of 1338 rows and 7 columns in the dataset.\n",
    "The percentages for genders in the dataset are 50.5% females and 49.4% males. There are fewer smokers than there are smokers (1064 non-smokers and 274 smokers). The average insurance charges based on the region were coded to find that southeast residents spend the most on health insurance with an average of $14735.\n",
    "\n",
    "Average insurance charges by age were calculated to find that participants who are 64 years old have spent the most on \n",
    "insurance with an average of$23275. The average BMI for females was 30.77 and 30.94 for males. \n",
    "\n",
    "Next, BMI was further analyzed to find the weight status of individuals. According to metrics by the CDC BMI can be used \n",
    "to categorize various weight ranges. A \"for loop\" was created to identify an individual's BMI to a particular category. \n",
    "A new column was created, named \"weight status\" with this iteration. The total count of obese individuals is 716. \n",
    "Obese participants who are 47 years old have an average BMI of 37.03. Finally, male obese individuals spend slightly\n",
    "more on medical cost charges with an average of $16626. "
   ]
  },
  {
   "cell_type": "code",
   "execution_count": null,
   "id": "cathedral-casting",
   "metadata": {},
   "outputs": [],
   "source": [
    "# Exploratory Analysis \n",
    "\n",
    "# Number of rows and columns\n",
    "rows_columns = x.shape\n",
    "print(rows_columns)\n",
    "\n",
    "# Percentages of male and female participants\n",
    "gender_count = x[\"sex\"].value_counts(normalize=True)\n",
    "print(gender_count)\n",
    "\n",
    "# Counts of smokers and non-smokers\n",
    "smoker_count = x[\"smoker\"].value_counts()\n",
    "print(smoker_count)\n",
    "\n",
    "# Average medical cost charges for each region\n",
    "mean_charges_region = x[['charges', 'region']].groupby(['region']).agg('mean')\n",
    "print(mean_charges_region)\n",
    "\n",
    "# Average medical cost charges by age\n",
    "mean_charges = x[['age', 'charges']].groupby(['age']).agg('mean')\n",
    "print(mean_charges)\n",
    "\n",
    "# Average BMI by gender\n",
    "bmi_gender = x[['sex', 'bmi']].groupby(['sex']).agg('mean')\n",
    "print(bmi_gender)\n",
    "\n",
    "# Categorize BMI by \"weight status\" based on BMI score and create a new column\n",
    "result = []\n",
    "for value in x[\"bmi\"]:\n",
    "    if value < 18.5:\n",
    "        result.append(\"Underweight\")\n",
    "    elif value <= 24.9:\n",
    "        result.append(\"Healthy\")\n",
    "    elif value <= 29.9:\n",
    "        result.append(\"Overweight\")\n",
    "    else:\n",
    "        result.append(\"Obese\")\n",
    "\n",
    "x[\"weight-status\"] = result\n",
    "print(x)\n",
    "\n",
    "# Frequency of individuals who are obese\n",
    "weight_status_counts = pd.crosstab(index=x['weight-status'], columns='count')\n",
    "print(weight_status_counts)\n",
    "\n",
    "# Categorize weight status of each participant by bmi and gender\n",
    "hello = x.pivot_table('bmi', index=['sex'], columns='weight-status', aggfunc=np.mean)\n",
    "print(hello)\n",
    "\n",
    "# Average medical cost charges by gender\n",
    "insurance_charges_gender = x.pivot_table('charges', index=['sex'], columns='weight-status', aggfunc=np.mean)\n",
    "print(insurance_charges_gender)\n",
    "\n",
    "# Of obese individuals, which age group had the highest BMI levels?\n",
    "insurance_charges_gender = x.pivot_table('bmi', index=['age'], columns='weight-status', aggfunc=np.mean)\n",
    "print(insurance_charges_gender)"
   ]
  },
  {
   "cell_type": "markdown",
   "id": "treated-aruba",
   "metadata": {},
   "source": [
    "### Statistical Analysis "
   ]
  },
  {
   "cell_type": "markdown",
   "id": "national-founder",
   "metadata": {},
   "source": [
    "#### Is the average BMI higher for those who live in the southwest versus the northwest"
   ]
  },
  {
   "cell_type": "markdown",
   "id": "separated-regard",
   "metadata": {},
   "source": [
    "### Data Visualization\n",
    "\n",
    "According to the visualization, the median distribution of BMI rates among individuals who live in the southwest is \n",
    "slightly higher compared to individuals who live in the northwest."
   ]
  },
  {
   "cell_type": "code",
   "execution_count": 5,
   "id": "perfect-salad",
   "metadata": {},
   "outputs": [
    {
     "data": {
      "image/png": "[encoded data removed]",
      "text/plain": [
       "<Figure size 432x288 with 1 Axes>"
      ]
     },
     "metadata": {},
     "output_type": "display_data"
    }
   ],
   "source": [
    "sns.boxplot(x=\"region\", y=\"bmi\", data=x)\n",
    "plt.xlabel(\"region\")\n",
    "plt.ylabel(\"bmi\")\n",
    "plt.title(\"BMI by region \")\n",
    "plt.show()"
   ]
  },
  {
   "cell_type": "markdown",
   "id": "unlikely-handling",
   "metadata": {},
   "source": [
    "### Hypothesis Testing\n",
    "\n",
    "Null Hypothesis: The average BMI for individuals living in various regions in the United States is the same.\n",
    "\n",
    "Alternative Hypothesis: The average BMI is greater for individuals living in the southwest \n",
    "then for individuals in the northwest.\n",
    "\n",
    "alpha- 0.05 (comparison value)"
   ]
  },
  {
   "cell_type": "code",
   "execution_count": 10,
   "id": "israeli-document",
   "metadata": {},
   "outputs": [],
   "source": [
    "southwest_bmi = x.loc[x['region'] == 'southwest']['bmi'].values\n",
    "northwest_bmi = x.loc[x['region'] == 'northwest']['bmi'].values\n",
    "stats.mannwhitneyu(southwest_bmi, northwest_bmi, use_continuity=True, alternative=\"greater\")"
   ]
  },
  {
   "cell_type": "markdown",
   "id": "blocked-rebecca",
   "metadata": {},
   "source": [
    "### Conclusion\n",
    "At a significance level of 0.05, we reject the null hypothesis and conclude that there is statistically significant \n",
    "evidence that BMI for individuals in the southwest is higher than for individuals in the northwest.\n",
    "p-value=0.0012027197920135202"
   ]
  },
  {
   "cell_type": "markdown",
   "id": "popular-universe",
   "metadata": {},
   "source": [
    "### Findings\n",
    "\n",
    "From statistical testing, we learned that individuals from the southwest have higher BMI rates than those who live in \n",
    "the northwest. Researchers could utilize this information to evaluate the differences between each region to determine which aspects of everyday life or culture contribute to high BMI rates and help bring awareness \n",
    "through health care providers, social media, and other methods. \n"
   ]
  },
  {
   "cell_type": "markdown",
   "id": "starting-pharmacology",
   "metadata": {},
   "source": [
    "### References\n",
    "https://www.cdc.gov/healthyweight/assessing/index.html#:~:text=If%20your%20BMI%20is%20less,falls%20within%20the%20obese%20range\n",
    "https://www.kaggle.com/datasets/teertha/ushealthinsurancedataset\n"
   ]
  }
 ],
 "metadata": {
  "kernelspec": {
   "display_name": "Python 3",
   "language": "python",
   "name": "python3"
  },
  "language_info": {
   "codemirror_mode": {
    "name": "ipython",
    "version": 3
   },
   "file_extension": ".py",
   "mimetype": "text/x-python",
   "name": "python",
   "nbconvert_exporter": "python",
   "pygments_lexer": "ipython3",
   "version": "3.9.1"
  }
 },
 "nbformat": 4,
 "nbformat_minor": 5
}
