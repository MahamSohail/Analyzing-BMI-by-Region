{
 "cells": [
  {
   "cell_type": "markdown",
   "id": "golden-wages",
   "metadata": {},
   "source": [
    "## Analyzing Region by BMI and Individual Medical Costs Project"
   ]
  },
  {
   "cell_type": "code",
   "execution_count": 3,
   "id": "gothic-booth",
   "metadata": {},
   "outputs": [],
   "source": [
    "# Import Packages\n",
    "import numpy as np\n",
    "import pandas as pd\n",
    "\n",
    "# Packages for visualizations\n",
    "import matplotlib.pyplot as plt\n",
    "import seaborn as sns\n",
    "sns.set(style=\"white\")\n",
    "sns.set(style=\"whitegrid\", color_codes=True)\n",
    "\n",
    "# Package for statistical analyses\n",
    "import scipy.stats as stats"
   ]
  },
  {
   "cell_type": "markdown",
   "id": "respective-yemen",
   "metadata": {},
   "source": [
    "### Introduction\n",
    "\n",
    "The \"Insurance Premium Charges\" dataset showcases medical costs billed by health insurance\n",
    "and various individual demographics such as age ranges, gender, and region.The goal is to understand how the \n",
    "region may impact medical costs and the health status of individuals. Exploratory data analysis was conducted \n",
    "to get an understanding of the data. After learning more about the data, research questions were created,\n",
    "accompanied by data visualization and statistical testing. "
   ]
  },
  {
   "cell_type": "markdown",
   "id": "mighty-chapter",
   "metadata": {},
   "source": [
    "### Exploratory Analysis\n",
    "\n",
    "First, the data was uploaded using the \"read_csv\" module. There are a total of 1338 rows and 7 columns in the dataset.\n",
    "The percentages for genders in the dataset are 50.5% females and 49.4% males. There are fewer smokers than there are smokers (1064 non-smokers and 274 smokers). The average insurance charges based on the region were coded to find that southeast residents spend the most on health insurance with an average of $14735.\n",
    "\n",
    "Average insurance charges by age were calculated to find that participants who are 64 years old have spent the most on \n",
    "insurance with an average of$23275. The average BMI for females was 30.77 and 30.94 for males. \n",
    "\n",
    "Next, BMI was further analyzed to find the weight status of individuals. According to metrics by the CDC BMI can be used \n",
    "to categorize various weight ranges. A \"for loop\" was created to identify an individual's BMI to a particular category. \n",
    "A new column was created, named \"weight status\" with this iteration. The total count of obese individuals is 716. \n",
    "Obese participants who are 47 years old have an average BMI of 37.03. Finally, male obese individuals spend slightly\n",
    "more on medical cost charges with an average of $16626. "
   ]
  },
  {
   "cell_type": "code",
   "execution_count": 4,
   "id": "editorial-mauritius",
   "metadata": {},
   "outputs": [],
   "source": [
    "# upload dataset\n",
    "x = pd.read_csv('/Users/MahamSohail/Downloads/insurance.csv')\n",
    "\n",
    "# print only first few rows\n",
    "print(x.head())\n"
   ]
  },
  {
   "cell_type": "code",
   "execution_count": null,
   "id": "reserved-sheriff",
   "metadata": {},
   "outputs": [],
   "source": [
    "# Exploratory Analysis \n",
    "\n",
    "# Number of rows and columns\n",
    "rows_columns = x.shape\n",
    "print(rows_columns)\n",
    "\n",
    "# Percentages of male and female participants\n",
    "gender_count = x[\"sex\"].value_counts(normalize=True)\n",
    "print(gender_count)\n",
    "\n",
    "#  Counts of smokers\n",
    "smoker_count = x[\"smoker\"].value_counts()\n",
    "print(smoker_count)\n",
    "\n",
    "# Average medical cost charges for each region\n",
    "mean_charges_region = x[['charges', 'region']].groupby(['region']).agg('mean')\n",
    "print(mean_charges_region)\n",
    "\n",
    "# Average medical cost charges by age\n",
    "mean_charges = x[['age', 'charges']].groupby(['age']).agg('mean')\n",
    "print(mean_charges)\n",
    "\n",
    "# Average BMI by gender\n",
    "bmi_gender = x[['sex', 'bmi']].groupby(['sex']).agg('mean')\n",
    "print(bmi_gender)\n",
    "\n",
    "# Categorize BMI by \"weight status\" based on BMI score and create a new column\n",
    "result = []\n",
    "for value in x[\"bmi\"]:\n",
    "    if value < 18.5:\n",
    "        result.append(\"Underweight\")\n",
    "    elif value <= 24.9:\n",
    "        result.append(\"Healthy\")\n",
    "    elif value <= 29.9:\n",
    "        result.append(\"Overweight\")\n",
    "    else:\n",
    "        result.append(\"Obese\")\n",
    "\n",
    "x[\"weight-status\"] = result\n",
    "print(x)\n",
    "\n",
    "# Frequency of individuals who are obese\n",
    "weight_status_counts = pd.crosstab(index=x['weight-status'], columns='count')\n",
    "print(weight_status_counts)\n",
    "\n",
    "# Categorize weight status of each participant by bmi and gender\n",
    "hello = x.pivot_table('bmi', index=['sex'], columns='weight-status', aggfunc=np.mean)\n",
    "print(hello)\n",
    "\n",
    "# Average medical cost charges by gender\n",
    "insurance_charges_gender = x.pivot_table('charges', index=['sex'], columns='weight-status', aggfunc=np.mean)\n",
    "print(insurance_charges_gender)\n",
    "\n",
    "# From obese individuals which age group has the highest bmi levels?\n",
    "insurance_charges_gender = x.pivot_table('bmi', index=['age'], columns='weight-status', aggfunc=np.mean)\n",
    "print(insurance_charges_gender)"
   ]
  },
  {
   "cell_type": "markdown",
   "id": "gothic-pregnancy",
   "metadata": {},
   "source": [
    "### Statistical Analysis "
   ]
  },
  {
   "cell_type": "markdown",
   "id": "dimensional-willow",
   "metadata": {},
   "source": [
    "#### Research Question #1: Is the average BMI higher for those who live in the southwest versus the northwest"
   ]
  },
  {
   "cell_type": "markdown",
   "id": "hungarian-subsection",
   "metadata": {},
   "source": [
    "### Data Visualization\n",
    "\n",
    "According to the visualization, the median distribution of BMI rates among individuals who live in the southwest is \n",
    "slightly higher compared to individuals who live in the northwest."
   ]
  },
  {
   "cell_type": "code",
   "execution_count": 5,
   "id": "auburn-stereo",
   "metadata": {},
   "outputs": [
    {
     "data": {
      "image/png": "[encoded data removed]",
      "text/plain": [
       "<Figure size 432x288 with 1 Axes>"
      ]
     },
     "metadata": {},
     "output_type": "display_data"
    }
   ],
   "source": [
    "sns.boxplot(x=\"region\", y=\"bmi\", data=x)\n",
    "plt.xlabel(\"region\")\n",
    "plt.ylabel(\"bmi\")\n",
    "plt.title(\"BMI by region \")\n",
    "plt.show()"
   ]
  },
  {
   "cell_type": "markdown",
   "id": "running-rescue",
   "metadata": {},
   "source": [
    "### Hypothesis Testing\n",
    "\n",
    "Null Hypothesis: The average BMI for individuals living in various regions in the United States is the same.\n",
    "\n",
    "Alternative Hypothesis: The average BMI is greater for individuals living in the southwest \n",
    "then for individuals in the northwest.\n",
    "\n",
    "alpha- 0.05 (comparison value)"
   ]
  },
  {
   "cell_type": "code",
   "execution_count": 6,
   "id": "realistic-distinction",
   "metadata": {},
   "outputs": [
    {
     "data": {
      "text/plain": [
       "MannwhitneyuResult(statistic=60078.0, pvalue=0.0012027197920135202)"
      ]
     },
     "execution_count": 6,
     "metadata": {},
     "output_type": "execute_result"
    }
   ],
   "source": [
    "southwest_bmi = x.loc[x['region'] == 'southwest']['bmi'].values\n",
    "northwest_bmi = x.loc[x['region'] == 'northwest']['bmi'].values\n",
    "stats.mannwhitneyu(southwest_bmi, northwest_bmi, use_continuity=True, alternative=\"greater\")"
   ]
  },
  {
   "cell_type": "markdown",
   "id": "sophisticated-wiring",
   "metadata": {},
   "source": [
    "### Conclusion\n",
    "At a significance level of 0.05, we reject the null hypothesis and conclude that there is statistically significant \n",
    "evidence that BMI for individuals in the southwest is higher than for individuals in the northwest.\n",
    "p-value=0.0012027197920135202"
   ]
  },
  {
   "cell_type": "markdown",
   "id": "retained-costa",
   "metadata": {},
   "source": [
    "#### Research Question #2: Is the average medical charges higher for individuals who live in the southwest then those who live in the northwest?"
   ]
  },
  {
   "cell_type": "markdown",
   "id": "anticipated-medicine",
   "metadata": {},
   "source": [
    "### Data Visualization\n",
    "\n",
    "According to the visualization, the distribution of medical costs among individuals who live in the southwest is \n",
    "slightly lower than individuals who live in the northwest"
   ]
  },
  {
   "cell_type": "code",
   "execution_count": 8,
   "id": "romance-immigration",
   "metadata": {},
   "outputs": [
    {
     "data": {
      "image/png": "[encoded data removed]",
      "text/plain": [
       "<Figure size 432x288 with 1 Axes>"
      ]
     },
     "metadata": {},
     "output_type": "display_data"
    }
   ],
   "source": [
    "sns.boxplot(x=\"region\", y=\"charges\", data=x)\n",
    "plt.xlabel(\"region\")\n",
    "plt.ylabel(\"charges\")\n",
    "plt.title(\"Medical Costs by Region \")\n",
    "plt.show()"
   ]
  },
  {
   "cell_type": "markdown",
   "id": "direct-wayne",
   "metadata": {},
   "source": [
    "### Hypothesis Testing\n",
    "\n",
    "Null Hypothesis: The average charges for individuals living in various regions in the United States is the same.\n",
    "\n",
    "Alternative Hypothesis: The average charges is higher for individuals living in the southwest then\n",
    "for individuals living in the northwest.\n",
    "\n",
    "alpha- 0.05 (comparison value)"
   ]
  },
  {
   "cell_type": "code",
   "execution_count": 9,
   "id": "informational-target",
   "metadata": {},
   "outputs": [
    {
     "data": {
      "text/plain": [
       "MannwhitneyuResult(statistic=51658.0, pvalue=0.6852751685316174)"
      ]
     },
     "execution_count": 9,
     "metadata": {},
     "output_type": "execute_result"
    }
   ],
   "source": [
    "southwest_charges = x.loc[x['region'] == 'southwest']['charges'].values\n",
    "northwest_charges = x.loc[x['region'] == 'northwest']['charges'].values\n",
    "stats.mannwhitneyu(southwest_charges, northwest_charges, use_continuity=True, alternative=\"greater\")"
   ]
  },
  {
   "cell_type": "markdown",
   "id": "deadly-highland",
   "metadata": {},
   "source": [
    "### Conclusion\n",
    "\n",
    "At a significance level of 0.05, we fail to reject the null hypothesis and conclude that there is not statistically\n",
    "significant evidence that the average charges are higher for individuals living in the southwest than for individuals,\n",
    "living in the northwest. p-value=0.6852751685316174"
   ]
  },
  {
   "cell_type": "markdown",
   "id": "sought-grocery",
   "metadata": {},
   "source": [
    "### Final Conclusion\n",
    "\n",
    "From statistical testing, we learned that individuals from the southwest have higher BMI rates than those who live in \n",
    "the northwest. Researchers could utilize this information to evaluate the societal differences within each \n",
    "region to determine whether aspects of everyday life or culture contribute to high BMI rates and help bring awareness \n",
    "through health care providers, social media, and other methods. Secondly, we learned that on average individuals who \n",
    "live in the southwest spend slightly lower on medical charges than those who live in the northwest. These findings show \n",
    "that medical services are slightly more expensive in some states compared to others states. \n",
    "These findings can help individuals be more aware of the differences between each region and help develop interventions \n",
    "that specifically accommodate each region's needs. "
   ]
  },
  {
   "cell_type": "markdown",
   "id": "loved-diameter",
   "metadata": {},
   "source": [
    "### References\n",
    "https://www.cdc.gov/healthyweight/assessing/index.html#:~:text=If%20your%20BMI%20is%20less,falls%20within%20the%20obese%20range\n",
    "https://www.kaggle.com/datasets/teertha/ushealthinsurancedataset\n"
   ]
  },
  {
   "cell_type": "code",
   "execution_count": null,
   "id": "automated-toronto",
   "metadata": {},
   "outputs": [],
   "source": []
  }
 ],
 "metadata": {
  "kernelspec": {
   "display_name": "Python 3",
   "language": "python",
   "name": "python3"
  },
  "language_info": {
   "codemirror_mode": {
    "name": "ipython",
    "version": 3
   },
   "file_extension": ".py",
   "mimetype": "text/x-python",
   "name": "python",
   "nbconvert_exporter": "python",
   "pygments_lexer": "ipython3",
   "version": "3.9.1"
  }
 },
 "nbformat": 4,
 "nbformat_minor": 5
}
